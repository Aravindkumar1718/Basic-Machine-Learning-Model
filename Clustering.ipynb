{
 "cells": [
  {
   "cell_type": "code",
   "execution_count": 2,
   "id": "867df814-7ae1-42b6-a54a-bb819ef2c9b9",
   "metadata": {},
   "outputs": [
    {
     "name": "stdout",
     "output_type": "stream",
     "text": [
      "Final centroids: [array([30.33333333,  0.81      ]), array([22.58333333,  0.56333333]), array([10.5       ,  0.22666667])]\n",
      "Clusters:\n",
      "Cluster 0: [array([30. ,  0.8]), array([32.  ,  0.85]), array([29.  ,  0.78])]\n",
      "Cluster 1: [array([20. ,  0.5]), array([21.  ,  0.55]), array([19.5 ,  0.52]), array([25. ,  0.6]), array([26.  ,  0.63]), array([24.  ,  0.58])]\n",
      "Cluster 2: [array([10. ,  0.2]), array([11.  ,  0.25]), array([10.5 ,  0.23])]\n"
     ]
    }
   ],
   "source": [
    "import random\n",
    "import numpy as np\n",
    "\n",
    "def initialize_centroids(data, k):\n",
    "    return random.sample(list(data), k)\n",
    "\n",
    "def assign_clusters(data, centroids):\n",
    "    clusters = {i: [] for i in range(len(centroids))}\n",
    "    for point in data:\n",
    "        distances = [np.linalg.norm(point - centroid) for centroid in centroids]\n",
    "        closest_centroid = distances.index(min(distances))\n",
    "        clusters[closest_centroid].append(point)\n",
    "    return clusters\n",
    "\n",
    "def update_centroids(clusters):\n",
    "    new_centroids = []\n",
    "    for cluster_points in clusters.values():\n",
    "        if cluster_points:  \n",
    "            new_centroids.append(np.mean(cluster_points, axis=0))\n",
    "        else:\n",
    "            new_centroids.append(np.zeros(len(cluster_points[0])))  \n",
    "    return new_centroids\n",
    "\n",
    "def k_means(data, k, max_iterations=100, tolerance=1e-4):\n",
    "    centroids = initialize_centroids(data, k)\n",
    "    for _ in range(max_iterations):\n",
    "        clusters = assign_clusters(data, centroids)\n",
    "        new_centroids = update_centroids(clusters)\n",
    "\n",
    "        if all(np.linalg.norm(np.array(new) - np.array(old)) < tolerance for new, old in zip(new_centroids, centroids)):\n",
    "            break\n",
    "\n",
    "        centroids = new_centroids\n",
    "\n",
    "    return centroids, clusters\n",
    "\n",
    "\n",
    "data = np.array([\n",
    "    [10, 0.2], [11, 0.25], [10.5, 0.23], [30, 0.8], [32, 0.85], [29, 0.78],\n",
    "    [20, 0.5], [21, 0.55], [19.5, 0.52], [25, 0.6], [26, 0.63], [24, 0.58]\n",
    "])\n",
    "# giving the random data values\n",
    "\n",
    "k = 3\n",
    "centroids, clusters = k_means(data, k)\n",
    "\n",
    "\n",
    "print(\"Final centroids:\", centroids)\n",
    "print(\"Clusters:\")\n",
    "for cluster_id, points in clusters.items():\n",
    "    print(f\"Cluster {cluster_id}: {points}\")\n"
   ]
  },
  {
   "cell_type": "code",
   "execution_count": null,
   "id": "10c0a56f-3a9d-4600-ad1f-bc578d216333",
   "metadata": {},
   "outputs": [],
   "source": []
  }
 ],
 "metadata": {
  "kernelspec": {
   "display_name": "Python 3 (ipykernel)",
   "language": "python",
   "name": "python3"
  },
  "language_info": {
   "codemirror_mode": {
    "name": "ipython",
    "version": 3
   },
   "file_extension": ".py",
   "mimetype": "text/x-python",
   "name": "python",
   "nbconvert_exporter": "python",
   "pygments_lexer": "ipython3",
   "version": "3.12.7"
  }
 },
 "nbformat": 4,
 "nbformat_minor": 5
}
