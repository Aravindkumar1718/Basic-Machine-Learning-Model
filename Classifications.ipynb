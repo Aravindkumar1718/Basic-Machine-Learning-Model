{
 "cells": [
  {
   "cell_type": "code",
   "execution_count": 17,
   "id": "5e7e65a3-280a-4754-bf07-36106f9c7d37",
   "metadata": {},
   "outputs": [
    {
     "name": "stdout",
     "output_type": "stream",
     "text": [
      "Epoch 0, Loss: 0.6931471805599458\n",
      "Epoch 100, Loss: 0.6707626375413259\n",
      "Epoch 200, Loss: 0.6600224592738931\n",
      "Epoch 300, Loss: 0.6545450282760763\n",
      "Epoch 400, Loss: 0.6514820493342762\n",
      "Epoch 500, Loss: 0.6495493593906739\n",
      "Epoch 600, Loss: 0.6481590248771432\n",
      "Epoch 700, Loss: 0.6470378768600499\n",
      "Epoch 800, Loss: 0.6460573538637763\n",
      "Epoch 900, Loss: 0.6451562404438131\n",
      "Predictions: [1, 1, 1]\n"
     ]
    }
   ],
   "source": [
    "import random\n",
    "import math\n",
    "import csv\n",
    "def generate_synthetic_data(num_samples=100):\n",
    "    data = []\n",
    "    for _ in range(num_samples):\n",
    "        hour = random.randint(1, 24)  \n",
    "        temperature = random.uniform(15, 40)\n",
    "        if 9 <= hour <= 18 and temperature > 30:\n",
    "            energy_usage = 1  \n",
    "        else:\n",
    "            energy_usage = random.choice([0, 1])        \n",
    "        data.append([hour, temperature, energy_usage]) \n",
    "    return data\n",
    "\n",
    "def save_to_csv(data, filename=\"synthetic_smart_grid_data.csv\"):\n",
    "    with open(filename, mode=\"w\", newline=\"\") as file:\n",
    "        writer = csv.writer(file)\n",
    "        writer.writerow([\"Hour\", \"Temperature\", \"EnergyUsage\"])  \n",
    "        writer.writerows(data)\n",
    "\n",
    "def load_from_csv(filename=\"synthetic_smart_grid_data.csv\"):\n",
    "    with open(filename, mode=\"r\") as file:\n",
    "        reader = csv.reader(file)\n",
    "        next(reader)  \n",
    "        return [[float(row[0]), float(row[1]), int(row[2])] for row in reader]\n",
    "\n",
    "def normalize(data):\n",
    "    min_val = min(data)\n",
    "    max_val = max(data)\n",
    "    return [(x - min_val) / (max_val - min_val) for x in data]\n",
    "\n",
    "def sigmoid(z):\n",
    "    return 1 / (1 + math.exp(-z))\n",
    "\n",
    "def gradient_descent(X, y, weights, learning_rate, epochs):\n",
    "    n = len(y)\n",
    "    for epoch in range(epochs):\n",
    "        predictions = [sigmoid(sum(x * w for x, w in zip(X[i], weights))) for i in range(n)]\n",
    "        \n",
    "        gradients = [0] * len(weights)\n",
    "        for j in range(len(weights)):\n",
    "            gradients[j] = (1 / n) * sum((predictions[i] - y[i]) * X[i][j] for i in range(n))\n",
    "        \n",
    "        for j in range(len(weights)):\n",
    "            weights[j] -= learning_rate * gradients[j]\n",
    "        \n",
    "        if epoch % 100 == 0:\n",
    "            loss = -sum(y[i] * math.log(predictions[i]) + (1 - y[i]) * math.log(1 - predictions[i]) for i in range(n)) / n\n",
    "            print(f\"Epoch {epoch}, Loss: {loss}\")\n",
    "    \n",
    "    return weights\n",
    "\n",
    "def predict(X, weights, threshold=0.5):\n",
    "    X_normalized = [[1] + [(val - min(col)) / (max(col) - min(col)) for val, col in zip(row, zip(*X))] for row in X]\n",
    "    probabilities = [sigmoid(sum(x * w for x, w in zip(row, weights))) for row in X_normalized]\n",
    "    return [1 if p >= threshold else 0 for p in probabilities]\n",
    "\n",
    "if __name__ == \"__main__\":\n",
    "    synthetic_data = generate_synthetic_data(100)\n",
    "    save_to_csv(synthetic_data)\n",
    "    data = load_from_csv()\n",
    "    X = [row[:-1] for row in data]  \n",
    "    y = [row[-1] for row in data] \n",
    "    X_normalized = [[(val - min(col)) / (max(col) - min(col)) for val, col in zip(row, zip(*X))] for row in X]\n",
    "    X_normalized = [[1] + row for row in X_normalized]\n",
    "    weights = [0] * len(X_normalized[0]) \n",
    "    learning_rate = 0.01\n",
    "    epochs = 1000\n",
    "    weights = gradient_descent(X_normalized, y, weights, learning_rate, epochs)\n",
    "    test_data = [[6, 22], [15, 35], [20, 25]] \n",
    "    predictions = predict(test_data, weights)\n",
    "    print(\"Predictions:\", predictions)\n"
   ]
  },
  {
   "cell_type": "code",
   "execution_count": null,
   "id": "d363a7a7-bd7b-4e35-a899-72f43c84ec5c",
   "metadata": {},
   "outputs": [],
   "source": []
  },
  {
   "cell_type": "code",
   "execution_count": null,
   "id": "949fa200-a433-4dc0-bb69-2a96fbda3d54",
   "metadata": {},
   "outputs": [],
   "source": []
  },
  {
   "cell_type": "code",
   "execution_count": null,
   "id": "38eab081-5848-4d6f-861c-7362bbf6e31d",
   "metadata": {},
   "outputs": [],
   "source": []
  }
 ],
 "metadata": {
  "kernelspec": {
   "display_name": "Python 3 (ipykernel)",
   "language": "python",
   "name": "python3"
  },
  "language_info": {
   "codemirror_mode": {
    "name": "ipython",
    "version": 3
   },
   "file_extension": ".py",
   "mimetype": "text/x-python",
   "name": "python",
   "nbconvert_exporter": "python",
   "pygments_lexer": "ipython3",
   "version": "3.11.7"
  }
 },
 "nbformat": 4,
 "nbformat_minor": 5
}
