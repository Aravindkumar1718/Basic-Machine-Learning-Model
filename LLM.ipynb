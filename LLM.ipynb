{
 "cells": [
  {
   "cell_type": "code",
   "execution_count": 4,
   "id": "cb810583-e2a1-4dd7-b3b7-571d8e00ca73",
   "metadata": {},
   "outputs": [
    {
     "name": "stdout",
     "output_type": "stream",
     "text": [
      "Predictions for new data:\n",
      "[212.52066116 180.92975207]\n"
     ]
    }
   ],
   "source": [
    "import numpy as np\n",
    "\n",
    "class LinearRegressionClosedForm:\n",
    "    \"\"\"\n",
    "    Linear Regression Model using the closed-form solution (normal equation).\n",
    "    \"\"\"\n",
    "    def __init__(self):\n",
    "        self.weights = None\n",
    "        self.bias = None\n",
    "\n",
    "    def fit(self, X, y):\n",
    "        \"\"\"\n",
    "        Fit the model to the training data using the normal equation.\n",
    "        :param X: Input features (2D array)\n",
    "        :param y: Target values (1D array)\n",
    "        \"\"\"\n",
    "        n_samples = X.shape[0]\n",
    "\n",
    "        # Add a column of ones to X for the bias term\n",
    "        X_with_bias = np.hstack((np.ones((n_samples, 1)), X))\n",
    "\n",
    "        # Compute the weights using the normal equation\n",
    "        X_transpose = X_with_bias.T\n",
    "        self.weights = np.linalg.inv(X_transpose @ X_with_bias) @ X_transpose @ y\n",
    "\n",
    "    def predict(self, X):\n",
    "        \"\"\"\n",
    "        Predict using the fitted model.\n",
    "        :param X: Input features (2D array)\n",
    "        :return: Predicted values (1D array)\n",
    "        \"\"\"\n",
    "        n_samples = X.shape[0]\n",
    "\n",
    "        # Add a column of ones to X for the bias term\n",
    "        X_with_bias = np.hstack((np.ones((n_samples, 1)), X))\n",
    "\n",
    "        # Compute predictions\n",
    "        return X_with_bias @ self.weights\n",
    "\n",
    "\n",
    "# Example Dataset: Simulating Smart Grid Data\n",
    "# Columns: [Load Demand (kW), Battery Storage Level (%), Weather Factor]\n",
    "# Target: Energy Generation (kW)\n",
    "X = np.array([\n",
    "    [150, 50, 0.8],  # Example 1\n",
    "    [200, 60, 0.7],  # Example 2\n",
    "    [180, 55, 0.9],  # Example 3\n",
    "    [210, 65, 0.6],  # Example 4\n",
    "    [170, 50, 0.85], # Example 5\n",
    "])\n",
    "\n",
    "# Target values (Energy Generation in kW)\n",
    "y = np.array([180, 220, 200, 230, 190])\n",
    "\n",
    "# Normalize the data\n",
    "X_mean = np.mean(X, axis=0)\n",
    "X_std = np.std(X, axis=0)\n",
    "X = (X - X_mean) / X_std  # Standardize features to have mean=0 and std=1\n",
    "\n",
    "# Train the model\n",
    "model = LinearRegressionClosedForm()\n",
    "model.fit(X, y)\n",
    "\n",
    "# Test the model\n",
    "X_test = np.array([\n",
    "    [190, 60, 0.75],  # New Example 1\n",
    "    [160, 45, 0.8],   # New Example 2\n",
    "])\n",
    "X_test = (X_test - X_mean) / X_std  # Apply the same normalization\n",
    "predictions = model.predict(X_test)\n",
    "\n",
    "print(\"Predictions for new data:\")\n",
    "print(predictions)\n"
   ]
  },
  {
   "cell_type": "code",
   "execution_count": null,
   "id": "5a777dc1-1e3d-4bc3-a734-6ee27e53cd83",
   "metadata": {},
   "outputs": [],
   "source": []
  },
  {
   "cell_type": "code",
   "execution_count": null,
   "id": "514be2f8-f4cf-4a9e-afad-fc861bc09720",
   "metadata": {},
   "outputs": [],
   "source": []
  }
 ],
 "metadata": {
  "kernelspec": {
   "display_name": "Python 3 (ipykernel)",
   "language": "python",
   "name": "python3"
  },
  "language_info": {
   "codemirror_mode": {
    "name": "ipython",
    "version": 3
   },
   "file_extension": ".py",
   "mimetype": "text/x-python",
   "name": "python",
   "nbconvert_exporter": "python",
   "pygments_lexer": "ipython3",
   "version": "3.12.7"
  }
 },
 "nbformat": 4,
 "nbformat_minor": 5
}
